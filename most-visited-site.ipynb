{
 "cells": [
  {
   "cell_type": "code",
   "execution_count": null,
   "metadata": {},
   "outputs": [],
   "source": [
    "import pandas as pd\n",
    "import matplotlib.pyplot as plt"
   ]
  },
  {
   "cell_type": "code",
   "execution_count": null,
   "metadata": {},
   "outputs": [],
   "source": [
    "def most_visited_site(file_path):\n",
    "    try:\n",
    "        df = pd.read_csv(file_path, encoding='utf-8', on_bad_lines='skip', header=0)\n",
    "    except FileNotFoundError:\n",
    "        print(f\"Error: File '{file_path}' not found.\")\n",
    "        return None\n",
    "    except pd.errors.EmptyDataError:\n",
    "        print(f\"Error: File '{file_path}' is empty.\")\n",
    "        return None\n",
    "    except pd.errors.ParserError as e:\n",
    "        print(f\"Error parsing the CSV file: {e}.  Check the file format.\")\n",
    "        return None\n",
    "\n",
    "    if not all(col in df.columns for col in ['NavigatedToUrl']):\n",
    "        print(\"Error: DataFrame is missing 'NavigatedToUrl' column.\")\n",
    "        return None\n",
    "        \n",
    "    urls = urls.dropna()\n",
    "    urls = df['NavigatedToUrl'].astype(str)\n",
    "\n",
    "    if urls.empty:\n",
    "        print(\"No valid URLs found.\")\n",
    "        return None\n",
    "        \n",
    "    url_counts = urls.str.lower().value_counts()\n",
    "\n",
    "    if url_counts.empty:\n",
    "        print(\"No valid URLs found to count\")\n",
    "        return None\n",
    "    \n",
    "    most_visited_url = url_counts.index[0]\n",
    "    return most_visited_url"
   ]
  },
  {
   "cell_type": "code",
   "execution_count": null,
   "metadata": {},
   "outputs": [],
   "source": [
    "file_path = 'BrowserHistory.csv'\n",
    "most_visited = most_visited_site(file_path)\n",
    "\n",
    "if most_visited:\n",
    "    print(f\"The most visited site is: {most_visited}\")"
   ]
  }
 ],
 "metadata": {
  "kernelspec": {
   "display_name": "Python 3",
   "language": "python",
   "name": "python3"
  },
  "language_info": {
   "name": "python",
   "version": "3.12.1"
  }
 },
 "nbformat": 4,
 "nbformat_minor": 2
}
